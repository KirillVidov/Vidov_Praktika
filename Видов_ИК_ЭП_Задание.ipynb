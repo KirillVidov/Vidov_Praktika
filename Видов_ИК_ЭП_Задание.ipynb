{
 "cells": [
  {
   "cell_type": "code",
   "execution_count": 1,
   "metadata": {
    "colab": {
     "base_uri": "https://localhost:8080/"
    },
    "executionInfo": {
     "elapsed": 7191,
     "status": "ok",
     "timestamp": 1758449213384,
     "user": {
      "displayName": "Kirill",
      "userId": "13701387713715993778"
     },
     "user_tz": -180
    },
    "id": "SH7aGjEOpHfM",
    "outputId": "de415403-fc65-4cae-bfa1-28f43605375d"
   },
   "outputs": [
    {
     "name": "stdout",
     "output_type": "stream",
     "text": [
      "Downloading from https://www.kaggle.com/api/v1/datasets/download/alfathterry/bbc-full-text-document-classification?dataset_version_number=1...\n"
     ]
    },
    {
     "name": "stderr",
     "output_type": "stream",
     "text": [
      "100%|██████████| 1.84M/1.84M [00:00<00:00, 90.4MB/s]"
     ]
    },
    {
     "name": "stdout",
     "output_type": "stream",
     "text": [
      "Extracting files...\n",
      "Path to dataset files: /root/.cache/kagglehub/datasets/alfathterry/bbc-full-text-document-classification/versions/1\n"
     ]
    },
    {
     "name": "stderr",
     "output_type": "stream",
     "text": [
      "\n"
     ]
    }
   ],
   "source": [
    "import kagglehub\n",
    "path = kagglehub.dataset_download(\"alfathterry/bbc-full-text-document-classification\")\n",
    "print(\"Path to dataset files:\", path)"
   ]
  },
  {
   "cell_type": "code",
   "execution_count": 3,
   "metadata": {
    "colab": {
     "base_uri": "https://localhost:8080/",
     "height": 161
    },
    "executionInfo": {
     "elapsed": 221,
     "status": "ok",
     "timestamp": 1758449352557,
     "user": {
      "displayName": "Kirill",
      "userId": "13701387713715993778"
     },
     "user_tz": -180
    },
    "id": "fS45LdCfv7So",
    "outputId": "c184fc0c-2944-4626-8df3-6480b087a640"
   },
   "outputs": [
    {
     "name": "stdout",
     "output_type": "stream",
     "text": [
      "/root/.cache/kagglehub/datasets/alfathterry/bbc-full-text-document-classification/versions/1/bbc_data.csv data labels (2225, 2)\n"
     ]
    },
    {
     "data": {
      "application/vnd.google.colaboratory.intrinsic+json": {
       "summary": "{\n  \"name\": \"df\",\n  \"rows\": 2225,\n  \"fields\": [\n    {\n      \"column\": \"data\",\n      \"properties\": {\n        \"dtype\": \"string\",\n        \"num_unique_values\": 2126,\n        \"samples\": [\n          \"Media seek Jackson juror notes  Reporters covering singer Michael Jacksons trial in California have asked to see questionnaires completed by potential jurors.  Lawyers for news organisations said it was \\\"really vital\\\" for the responses of 250 potential jurors to be made public \\\"to serve as a check on the process\\\". Santa Barbara County Superior Court is due to consider the request on Monday. Mr Jackson denies child molestation. It is estimated his trial will cost Santa Barbara county up to $4m (xc2xa32.13m).  Meanwhile Michael Jacksons mother has said she is \\\"100% certain\\\" her son did not commit the child abuse charges he faces. The court is currently selecting 12 jurors and eight stand-by jurors for the trial, a process delayed until at least Thursday after a member of the stars legal team was hit by family illness. Defence lawyers argued against the bid by Associated Press and other news organisations to have potential jurors responses made public.  \\\"The release of the completed jury questionnaires does not serve any purpose other than to add to the sensationalist coverage of this case,\\\" a motion by Mr Jacksons lawyers stated. The estimated total costs of the trial, expected to last five months, range from $2.5m (xc2xa31.33m) to $4m (xc2xa32.13m) of local taxpayers money. Those estimates do not include costs to the city of Santa Maria, the Superior Court or for the investigation and prosecution of the case. The cost of security and other needs around the courthouse has been estimated at $40,000 (xc2xa321,000) per day, said Jason Stilwell, a special projects manager at the county administrators office.  Mr Jackson, 46, denies plying a boy with alcohol and molesting him. His mother Katherine Jackson told US TV network Fox News on Sunday that her pop star son told her he was innocent. \\\"I believe that for one reason - I know his character,\\\" she said. \\\"He loves children. You dont molest anything that you love.\\\" Describing Mr Jackson as \\\"a good person\\\", the mother-of-nine said she feared he would not be given a fair trial. \\\"I cant sleep thinking about what these wicked people might try to do to him,\\\" she said. \",\n          \"Game firm holds cast auditions  Video game firm Bioware is to hold open auditions for people to become cast members for future games.  The company, which makes role playing games such as Knights of the Old Republic and Neverwinter Nights, is seeking people aged 18 to 99. The Canada-based company says it was looking for \\\"a wide variety of people to use as face models for characters\\\". Everyone chosen to appear in a video game will receive a performers fee for the use of their image. The company is inviting people to come along to a shopping mall in West Edmonton, Alberta, on Friday and Saturday, bringing along a piece of photo identification.  \\\"There are hundreds and hundreds of characters in a typical Bioware game,\\\" said Shauna Perry, Biowares audio and external resources producer. \\\"Those people live in any city and village and so we need ordinary people, people with interesting faces.\\\" She added: \\\"Not everyone is a model in the world so we dont want just models in our games.\\\" People chosen to appear in a game will have their head scanned in three dimensions. Hundreds of photos of the persons head are taken so that a model of the head can be generated in 3D. \\\"The 3D model will look exactly like the person - its really quite incredible how detailed they are,\\\" said Ms Perry. She said chosen participants will have no control over how the image is used in a computer game. \\\"We cannot give people any control over how the images are used. \\\"But their face could be used in multiple games - so they could be the hero in one, the villain in another and just a merchant in a third.\\\" \",\n          \"Citizenship event for 18s touted  Citizenship ceremonies could be introduced for people celebrating their 18th birthday, Charles Clarke has said.  The idea will be tried as part of an overhaul of the way government approaches \\\"inclusive citizenship\\\" particularly for ethnic minorities. A pilot scheme based on ceremonies in Australia will start in October. Mr Clarke said it would be a way of recognising young people reaching their voting age when they also gain greater independence from parents. Britains young black and Asian people are to be encouraged to learn about the nations heritage as part of the governments new race strategy which will also target specific issues within different ethnic minority groups. Officials say the home secretary wants young people to feel they belong and to understand their \\\"other cultural identities\\\" alongside being British. The launch follows a row about the role of faith schools in Britain. On Monday school inspection chief David Bell, accused some Islamic schools of failing to teach pupils about their obligations to British society.  The Muslim Council of Britain said Ofsted boss Mr Bells comments were \\\"highly irresponsible\\\". The Home Office started work on its Community Cohesion and Race Equality Strategy last year and the outcome, launched on Wednesday, is called Improving Opportunity, Strengthening Society. It is aimed at tackling racism, exclusion, segregation and the rise in political and religious extremism. \\\"It represents a move away from the one-size-fits-all approach to focus on specifics within cultural groups,\\\" said a Home Office spokesman. \\\"It is not right to say that if you are from a black or ethnic minority group you must be disadvantaged.\\\" The spokesman highlighted specific issues that affect particular communities - for example people of south Asian origin tend to suffer from a high incidence of heart disease.  \\\"It is about drilling down and focusing on these sorts of problems,\\\" the spokesman added. Launching the initiative Mr Clarke said enormous progress had been made on race issues in recent years. He added: \\\"But while many members of black and minority ethnic communities are thriving, some may still find it harder to succeed in employment or gain access to healthcare, education or housing. \\\"This strategy sets out the governments commitment to doing more to identify and respond to the specific needs of minorities in our society.\\\" Some 8% of the UK population described themselves as coming from a non-white ethnic minority in the 2001 Census.  The Downing Street Strategy Unit in 2003 said people from Indian and Chinese backgrounds were doing well on average, often outperforming white people in education and earnings. But those of Pakistani, Bangladeshi and black Caribbean origin were significantly more likely to be unemployed and earn less than whites, it said. The Home Office wants more initiatives which try to promote a sense of belonging by encouraging young people to take part in voluntary work. The programmes are designed to support the citizenship lessons already taking place in schools. \"\n        ],\n        \"semantic_type\": \"\",\n        \"description\": \"\"\n      }\n    },\n    {\n      \"column\": \"labels\",\n      \"properties\": {\n        \"dtype\": \"category\",\n        \"num_unique_values\": 5,\n        \"samples\": [\n          \"business\",\n          \"tech\",\n          \"sport\"\n        ],\n        \"semantic_type\": \"\",\n        \"description\": \"\"\n      }\n    }\n  ]\n}",
       "type": "dataframe",
       "variable_name": "df"
      },
      "text/html": [
       "\n",
       "  <div id=\"df-6e6cfaf1-b800-43e0-aad5-ce162cc953e7\" class=\"colab-df-container\">\n",
       "    <div>\n",
       "<style scoped>\n",
       "    .dataframe tbody tr th:only-of-type {\n",
       "        vertical-align: middle;\n",
       "    }\n",
       "\n",
       "    .dataframe tbody tr th {\n",
       "        vertical-align: top;\n",
       "    }\n",
       "\n",
       "    .dataframe thead th {\n",
       "        text-align: right;\n",
       "    }\n",
       "</style>\n",
       "<table border=\"1\" class=\"dataframe\">\n",
       "  <thead>\n",
       "    <tr style=\"text-align: right;\">\n",
       "      <th></th>\n",
       "      <th>data</th>\n",
       "      <th>labels</th>\n",
       "    </tr>\n",
       "  </thead>\n",
       "  <tbody>\n",
       "    <tr>\n",
       "      <th>0</th>\n",
       "      <td>Musicians to tackle US red tape  Musicians gro...</td>\n",
       "      <td>entertainment</td>\n",
       "    </tr>\n",
       "    <tr>\n",
       "      <th>1</th>\n",
       "      <td>U2s desire to be number one  U2, who have won ...</td>\n",
       "      <td>entertainment</td>\n",
       "    </tr>\n",
       "    <tr>\n",
       "      <th>2</th>\n",
       "      <td>Rocker Doherty in on-stage fight  Rock singer ...</td>\n",
       "      <td>entertainment</td>\n",
       "    </tr>\n",
       "  </tbody>\n",
       "</table>\n",
       "</div>\n",
       "    <div class=\"colab-df-buttons\">\n",
       "\n",
       "  <div class=\"colab-df-container\">\n",
       "    <button class=\"colab-df-convert\" onclick=\"convertToInteractive('df-6e6cfaf1-b800-43e0-aad5-ce162cc953e7')\"\n",
       "            title=\"Convert this dataframe to an interactive table.\"\n",
       "            style=\"display:none;\">\n",
       "\n",
       "  <svg xmlns=\"http://www.w3.org/2000/svg\" height=\"24px\" viewBox=\"0 -960 960 960\">\n",
       "    <path d=\"M120-120v-720h720v720H120Zm60-500h600v-160H180v160Zm220 220h160v-160H400v160Zm0 220h160v-160H400v160ZM180-400h160v-160H180v160Zm440 0h160v-160H620v160ZM180-180h160v-160H180v160Zm440 0h160v-160H620v160Z\"/>\n",
       "  </svg>\n",
       "    </button>\n",
       "\n",
       "  <style>\n",
       "    .colab-df-container {\n",
       "      display:flex;\n",
       "      gap: 12px;\n",
       "    }\n",
       "\n",
       "    .colab-df-convert {\n",
       "      background-color: #E8F0FE;\n",
       "      border: none;\n",
       "      border-radius: 50%;\n",
       "      cursor: pointer;\n",
       "      display: none;\n",
       "      fill: #1967D2;\n",
       "      height: 32px;\n",
       "      padding: 0 0 0 0;\n",
       "      width: 32px;\n",
       "    }\n",
       "\n",
       "    .colab-df-convert:hover {\n",
       "      background-color: #E2EBFA;\n",
       "      box-shadow: 0px 1px 2px rgba(60, 64, 67, 0.3), 0px 1px 3px 1px rgba(60, 64, 67, 0.15);\n",
       "      fill: #174EA6;\n",
       "    }\n",
       "\n",
       "    .colab-df-buttons div {\n",
       "      margin-bottom: 4px;\n",
       "    }\n",
       "\n",
       "    [theme=dark] .colab-df-convert {\n",
       "      background-color: #3B4455;\n",
       "      fill: #D2E3FC;\n",
       "    }\n",
       "\n",
       "    [theme=dark] .colab-df-convert:hover {\n",
       "      background-color: #434B5C;\n",
       "      box-shadow: 0px 1px 3px 1px rgba(0, 0, 0, 0.15);\n",
       "      filter: drop-shadow(0px 1px 2px rgba(0, 0, 0, 0.3));\n",
       "      fill: #FFFFFF;\n",
       "    }\n",
       "  </style>\n",
       "\n",
       "    <script>\n",
       "      const buttonEl =\n",
       "        document.querySelector('#df-6e6cfaf1-b800-43e0-aad5-ce162cc953e7 button.colab-df-convert');\n",
       "      buttonEl.style.display =\n",
       "        google.colab.kernel.accessAllowed ? 'block' : 'none';\n",
       "\n",
       "      async function convertToInteractive(key) {\n",
       "        const element = document.querySelector('#df-6e6cfaf1-b800-43e0-aad5-ce162cc953e7');\n",
       "        const dataTable =\n",
       "          await google.colab.kernel.invokeFunction('convertToInteractive',\n",
       "                                                    [key], {});\n",
       "        if (!dataTable) return;\n",
       "\n",
       "        const docLinkHtml = 'Like what you see? Visit the ' +\n",
       "          '<a target=\"_blank\" href=https://colab.research.google.com/notebooks/data_table.ipynb>data table notebook</a>'\n",
       "          + ' to learn more about interactive tables.';\n",
       "        element.innerHTML = '';\n",
       "        dataTable['output_type'] = 'display_data';\n",
       "        await google.colab.output.renderOutput(dataTable, element);\n",
       "        const docLink = document.createElement('div');\n",
       "        docLink.innerHTML = docLinkHtml;\n",
       "        element.appendChild(docLink);\n",
       "      }\n",
       "    </script>\n",
       "  </div>\n",
       "\n",
       "\n",
       "    <div id=\"df-ee086428-1fac-4dc2-a0ba-5a86465620c0\">\n",
       "      <button class=\"colab-df-quickchart\" onclick=\"quickchart('df-ee086428-1fac-4dc2-a0ba-5a86465620c0')\"\n",
       "                title=\"Suggest charts\"\n",
       "                style=\"display:none;\">\n",
       "\n",
       "<svg xmlns=\"http://www.w3.org/2000/svg\" height=\"24px\"viewBox=\"0 0 24 24\"\n",
       "     width=\"24px\">\n",
       "    <g>\n",
       "        <path d=\"M19 3H5c-1.1 0-2 .9-2 2v14c0 1.1.9 2 2 2h14c1.1 0 2-.9 2-2V5c0-1.1-.9-2-2-2zM9 17H7v-7h2v7zm4 0h-2V7h2v10zm4 0h-2v-4h2v4z\"/>\n",
       "    </g>\n",
       "</svg>\n",
       "      </button>\n",
       "\n",
       "<style>\n",
       "  .colab-df-quickchart {\n",
       "      --bg-color: #E8F0FE;\n",
       "      --fill-color: #1967D2;\n",
       "      --hover-bg-color: #E2EBFA;\n",
       "      --hover-fill-color: #174EA6;\n",
       "      --disabled-fill-color: #AAA;\n",
       "      --disabled-bg-color: #DDD;\n",
       "  }\n",
       "\n",
       "  [theme=dark] .colab-df-quickchart {\n",
       "      --bg-color: #3B4455;\n",
       "      --fill-color: #D2E3FC;\n",
       "      --hover-bg-color: #434B5C;\n",
       "      --hover-fill-color: #FFFFFF;\n",
       "      --disabled-bg-color: #3B4455;\n",
       "      --disabled-fill-color: #666;\n",
       "  }\n",
       "\n",
       "  .colab-df-quickchart {\n",
       "    background-color: var(--bg-color);\n",
       "    border: none;\n",
       "    border-radius: 50%;\n",
       "    cursor: pointer;\n",
       "    display: none;\n",
       "    fill: var(--fill-color);\n",
       "    height: 32px;\n",
       "    padding: 0;\n",
       "    width: 32px;\n",
       "  }\n",
       "\n",
       "  .colab-df-quickchart:hover {\n",
       "    background-color: var(--hover-bg-color);\n",
       "    box-shadow: 0 1px 2px rgba(60, 64, 67, 0.3), 0 1px 3px 1px rgba(60, 64, 67, 0.15);\n",
       "    fill: var(--button-hover-fill-color);\n",
       "  }\n",
       "\n",
       "  .colab-df-quickchart-complete:disabled,\n",
       "  .colab-df-quickchart-complete:disabled:hover {\n",
       "    background-color: var(--disabled-bg-color);\n",
       "    fill: var(--disabled-fill-color);\n",
       "    box-shadow: none;\n",
       "  }\n",
       "\n",
       "  .colab-df-spinner {\n",
       "    border: 2px solid var(--fill-color);\n",
       "    border-color: transparent;\n",
       "    border-bottom-color: var(--fill-color);\n",
       "    animation:\n",
       "      spin 1s steps(1) infinite;\n",
       "  }\n",
       "\n",
       "  @keyframes spin {\n",
       "    0% {\n",
       "      border-color: transparent;\n",
       "      border-bottom-color: var(--fill-color);\n",
       "      border-left-color: var(--fill-color);\n",
       "    }\n",
       "    20% {\n",
       "      border-color: transparent;\n",
       "      border-left-color: var(--fill-color);\n",
       "      border-top-color: var(--fill-color);\n",
       "    }\n",
       "    30% {\n",
       "      border-color: transparent;\n",
       "      border-left-color: var(--fill-color);\n",
       "      border-top-color: var(--fill-color);\n",
       "      border-right-color: var(--fill-color);\n",
       "    }\n",
       "    40% {\n",
       "      border-color: transparent;\n",
       "      border-right-color: var(--fill-color);\n",
       "      border-top-color: var(--fill-color);\n",
       "    }\n",
       "    60% {\n",
       "      border-color: transparent;\n",
       "      border-right-color: var(--fill-color);\n",
       "    }\n",
       "    80% {\n",
       "      border-color: transparent;\n",
       "      border-right-color: var(--fill-color);\n",
       "      border-bottom-color: var(--fill-color);\n",
       "    }\n",
       "    90% {\n",
       "      border-color: transparent;\n",
       "      border-bottom-color: var(--fill-color);\n",
       "    }\n",
       "  }\n",
       "</style>\n",
       "\n",
       "      <script>\n",
       "        async function quickchart(key) {\n",
       "          const quickchartButtonEl =\n",
       "            document.querySelector('#' + key + ' button');\n",
       "          quickchartButtonEl.disabled = true;  // To prevent multiple clicks.\n",
       "          quickchartButtonEl.classList.add('colab-df-spinner');\n",
       "          try {\n",
       "            const charts = await google.colab.kernel.invokeFunction(\n",
       "                'suggestCharts', [key], {});\n",
       "          } catch (error) {\n",
       "            console.error('Error during call to suggestCharts:', error);\n",
       "          }\n",
       "          quickchartButtonEl.classList.remove('colab-df-spinner');\n",
       "          quickchartButtonEl.classList.add('colab-df-quickchart-complete');\n",
       "        }\n",
       "        (() => {\n",
       "          let quickchartButtonEl =\n",
       "            document.querySelector('#df-ee086428-1fac-4dc2-a0ba-5a86465620c0 button');\n",
       "          quickchartButtonEl.style.display =\n",
       "            google.colab.kernel.accessAllowed ? 'block' : 'none';\n",
       "        })();\n",
       "      </script>\n",
       "    </div>\n",
       "    </div>\n",
       "  </div>\n"
      ],
      "text/plain": [
       "                                                data         labels\n",
       "0  Musicians to tackle US red tape  Musicians gro...  entertainment\n",
       "1  U2s desire to be number one  U2, who have won ...  entertainment\n",
       "2  Rocker Doherty in on-stage fight  Rock singer ...  entertainment"
      ]
     },
     "execution_count": 3,
     "metadata": {},
     "output_type": "execute_result"
    }
   ],
   "source": [
    "import pandas as pd, glob, os, numpy as np\n",
    "\n",
    "candidates = sorted(glob.glob(os.path.join(path, \"*.csv\")))\n",
    "assert candidates, \"No CSV files found.\"\n",
    "DATASET_PATH = candidates[0]\n",
    "df = pd.read_csv(DATASET_PATH)\n",
    "\n",
    "TEXT_COL = None; LABEL_COL = None\n",
    "lc = {c.lower(): c for c in df.columns}\n",
    "\n",
    "for k in [\"text\",\"article\",\"content\",\"body\",\"news\",\"document\",\"headline\",\"review\",\"message\",\"description\"]:\n",
    "    if k in lc: TEXT_COL = lc[k]; break\n",
    "\n",
    "for k in [\"category\",\"label\",\"class\",\"topic\",\"section\",\"subject\",\"tags\",\"sentiment\"]:\n",
    "    if k in lc and lc[k] != TEXT_COL: LABEL_COL = lc[k]; break\n",
    "\n",
    "if TEXT_COL is None:\n",
    "    obj = [c for c in df.columns if df[c].dtype == \"object\"]\n",
    "    if obj:\n",
    "        L = {c: df[c].astype(str).str.len().mean() for c in obj}\n",
    "        TEXT_COL = max(L, key=L.get)\n",
    "\n",
    "if LABEL_COL is None:\n",
    "    cand = [c for c in df.columns if c != TEXT_COL and df[c].nunique() <= 50]\n",
    "    if cand:\n",
    "        LABEL_COL = min(cand, key=lambda c: df[c].nunique())\n",
    "\n",
    "assert TEXT_COL is not None and LABEL_COL is not None, f\"Set TEXT_COL/LABEL_COL manually. Columns: {list(df.columns)}\"\n",
    "df = df[[TEXT_COL, LABEL_COL]].dropna()\n",
    "print(DATASET_PATH, TEXT_COL, LABEL_COL, df.shape)\n",
    "df.head(3)"
   ]
  },
  {
   "cell_type": "code",
   "execution_count": 4,
   "metadata": {
    "colab": {
     "base_uri": "https://localhost:8080/"
    },
    "executionInfo": {
     "elapsed": 4251,
     "status": "ok",
     "timestamp": 1758449369304,
     "user": {
      "displayName": "Kirill",
      "userId": "13701387713715993778"
     },
     "user_tz": -180
    },
    "id": "m971uIUmv-hs",
    "outputId": "aa0bf11d-b2ac-4ae0-f687-3050f2b059c4"
   },
   "outputs": [
    {
     "name": "stdout",
     "output_type": "stream",
     "text": [
      "Using samples: 2225\n"
     ]
    }
   ],
   "source": [
    "import pandas as pd\n",
    "from sklearn.model_selection import train_test_split\n",
    "\n",
    "LIGHT_MODE = True\n",
    "MAX_SAMPLES = 5000\n",
    "MAX_FEATURES = 50000\n",
    "NGRAMS = (1,2)\n",
    "\n",
    "if LIGHT_MODE and len(df) > MAX_SAMPLES:\n",
    "    df = df.groupby(LABEL_COL, group_keys=False).apply(lambda x: x.sample(min(len(x), max(1, MAX_SAMPLES // df[LABEL_COL].nunique())), random_state=42)).reset_index(drop=True)\n",
    "print('Using samples:', len(df))\n",
    "\n",
    "X_train, X_valid, y_train, y_valid = train_test_split(\n",
    "    df[TEXT_COL], df[LABEL_COL], test_size=0.2, random_state=42, stratify=df[LABEL_COL]\n",
    ")"
   ]
  },
  {
   "cell_type": "code",
   "execution_count": 5,
   "metadata": {
    "executionInfo": {
     "elapsed": 55,
     "status": "ok",
     "timestamp": 1758449387167,
     "user": {
      "displayName": "Kirill",
      "userId": "13701387713715993778"
     },
     "user_tz": -180
    },
    "id": "RuxqAtw2wC-t"
   },
   "outputs": [],
   "source": [
    "df = pd.read_csv(DATASET_PATH)"
   ]
  },
  {
   "cell_type": "code",
   "execution_count": 6,
   "metadata": {
    "colab": {
     "base_uri": "https://localhost:8080/",
     "height": 161
    },
    "executionInfo": {
     "elapsed": 286,
     "status": "ok",
     "timestamp": 1758449395583,
     "user": {
      "displayName": "Kirill",
      "userId": "13701387713715993778"
     },
     "user_tz": -180
    },
    "id": "tmfkY1C8wFGg",
    "outputId": "56c068fb-217d-49ff-be93-5bd01981469b"
   },
   "outputs": [
    {
     "name": "stdout",
     "output_type": "stream",
     "text": [
      "Классов после фильтра: 5\n"
     ]
    },
    {
     "data": {
      "application/vnd.google.colaboratory.intrinsic+json": {
       "summary": "{\n  \"name\": \"df\",\n  \"rows\": 2225,\n  \"fields\": [\n    {\n      \"column\": \"data\",\n      \"properties\": {\n        \"dtype\": \"string\",\n        \"num_unique_values\": 2126,\n        \"samples\": [\n          \"Media seek Jackson juror notes  Reporters covering singer Michael Jacksons trial in California have asked to see questionnaires completed by potential jurors.  Lawyers for news organisations said it was \\\"really vital\\\" for the responses of 250 potential jurors to be made public \\\"to serve as a check on the process\\\". Santa Barbara County Superior Court is due to consider the request on Monday. Mr Jackson denies child molestation. It is estimated his trial will cost Santa Barbara county up to $4m (xc2xa32.13m).  Meanwhile Michael Jacksons mother has said she is \\\"100% certain\\\" her son did not commit the child abuse charges he faces. The court is currently selecting 12 jurors and eight stand-by jurors for the trial, a process delayed until at least Thursday after a member of the stars legal team was hit by family illness. Defence lawyers argued against the bid by Associated Press and other news organisations to have potential jurors responses made public.  \\\"The release of the completed jury questionnaires does not serve any purpose other than to add to the sensationalist coverage of this case,\\\" a motion by Mr Jacksons lawyers stated. The estimated total costs of the trial, expected to last five months, range from $2.5m (xc2xa31.33m) to $4m (xc2xa32.13m) of local taxpayers money. Those estimates do not include costs to the city of Santa Maria, the Superior Court or for the investigation and prosecution of the case. The cost of security and other needs around the courthouse has been estimated at $40,000 (xc2xa321,000) per day, said Jason Stilwell, a special projects manager at the county administrators office.  Mr Jackson, 46, denies plying a boy with alcohol and molesting him. His mother Katherine Jackson told US TV network Fox News on Sunday that her pop star son told her he was innocent. \\\"I believe that for one reason - I know his character,\\\" she said. \\\"He loves children. You dont molest anything that you love.\\\" Describing Mr Jackson as \\\"a good person\\\", the mother-of-nine said she feared he would not be given a fair trial. \\\"I cant sleep thinking about what these wicked people might try to do to him,\\\" she said. \",\n          \"Game firm holds cast auditions  Video game firm Bioware is to hold open auditions for people to become cast members for future games.  The company, which makes role playing games such as Knights of the Old Republic and Neverwinter Nights, is seeking people aged 18 to 99. The Canada-based company says it was looking for \\\"a wide variety of people to use as face models for characters\\\". Everyone chosen to appear in a video game will receive a performers fee for the use of their image. The company is inviting people to come along to a shopping mall in West Edmonton, Alberta, on Friday and Saturday, bringing along a piece of photo identification.  \\\"There are hundreds and hundreds of characters in a typical Bioware game,\\\" said Shauna Perry, Biowares audio and external resources producer. \\\"Those people live in any city and village and so we need ordinary people, people with interesting faces.\\\" She added: \\\"Not everyone is a model in the world so we dont want just models in our games.\\\" People chosen to appear in a game will have their head scanned in three dimensions. Hundreds of photos of the persons head are taken so that a model of the head can be generated in 3D. \\\"The 3D model will look exactly like the person - its really quite incredible how detailed they are,\\\" said Ms Perry. She said chosen participants will have no control over how the image is used in a computer game. \\\"We cannot give people any control over how the images are used. \\\"But their face could be used in multiple games - so they could be the hero in one, the villain in another and just a merchant in a third.\\\" \",\n          \"Citizenship event for 18s touted  Citizenship ceremonies could be introduced for people celebrating their 18th birthday, Charles Clarke has said.  The idea will be tried as part of an overhaul of the way government approaches \\\"inclusive citizenship\\\" particularly for ethnic minorities. A pilot scheme based on ceremonies in Australia will start in October. Mr Clarke said it would be a way of recognising young people reaching their voting age when they also gain greater independence from parents. Britains young black and Asian people are to be encouraged to learn about the nations heritage as part of the governments new race strategy which will also target specific issues within different ethnic minority groups. Officials say the home secretary wants young people to feel they belong and to understand their \\\"other cultural identities\\\" alongside being British. The launch follows a row about the role of faith schools in Britain. On Monday school inspection chief David Bell, accused some Islamic schools of failing to teach pupils about their obligations to British society.  The Muslim Council of Britain said Ofsted boss Mr Bells comments were \\\"highly irresponsible\\\". The Home Office started work on its Community Cohesion and Race Equality Strategy last year and the outcome, launched on Wednesday, is called Improving Opportunity, Strengthening Society. It is aimed at tackling racism, exclusion, segregation and the rise in political and religious extremism. \\\"It represents a move away from the one-size-fits-all approach to focus on specifics within cultural groups,\\\" said a Home Office spokesman. \\\"It is not right to say that if you are from a black or ethnic minority group you must be disadvantaged.\\\" The spokesman highlighted specific issues that affect particular communities - for example people of south Asian origin tend to suffer from a high incidence of heart disease.  \\\"It is about drilling down and focusing on these sorts of problems,\\\" the spokesman added. Launching the initiative Mr Clarke said enormous progress had been made on race issues in recent years. He added: \\\"But while many members of black and minority ethnic communities are thriving, some may still find it harder to succeed in employment or gain access to healthcare, education or housing. \\\"This strategy sets out the governments commitment to doing more to identify and respond to the specific needs of minorities in our society.\\\" Some 8% of the UK population described themselves as coming from a non-white ethnic minority in the 2001 Census.  The Downing Street Strategy Unit in 2003 said people from Indian and Chinese backgrounds were doing well on average, often outperforming white people in education and earnings. But those of Pakistani, Bangladeshi and black Caribbean origin were significantly more likely to be unemployed and earn less than whites, it said. The Home Office wants more initiatives which try to promote a sense of belonging by encouraging young people to take part in voluntary work. The programmes are designed to support the citizenship lessons already taking place in schools. \"\n        ],\n        \"semantic_type\": \"\",\n        \"description\": \"\"\n      }\n    },\n    {\n      \"column\": \"labels\",\n      \"properties\": {\n        \"dtype\": \"category\",\n        \"num_unique_values\": 5,\n        \"samples\": [\n          \"business\",\n          \"tech\",\n          \"sport\"\n        ],\n        \"semantic_type\": \"\",\n        \"description\": \"\"\n      }\n    }\n  ]\n}",
       "type": "dataframe",
       "variable_name": "df"
      },
      "text/html": [
       "\n",
       "  <div id=\"df-6ccbcf24-50fb-4a43-9b67-ccfebda030de\" class=\"colab-df-container\">\n",
       "    <div>\n",
       "<style scoped>\n",
       "    .dataframe tbody tr th:only-of-type {\n",
       "        vertical-align: middle;\n",
       "    }\n",
       "\n",
       "    .dataframe tbody tr th {\n",
       "        vertical-align: top;\n",
       "    }\n",
       "\n",
       "    .dataframe thead th {\n",
       "        text-align: right;\n",
       "    }\n",
       "</style>\n",
       "<table border=\"1\" class=\"dataframe\">\n",
       "  <thead>\n",
       "    <tr style=\"text-align: right;\">\n",
       "      <th></th>\n",
       "      <th>data</th>\n",
       "      <th>labels</th>\n",
       "    </tr>\n",
       "  </thead>\n",
       "  <tbody>\n",
       "    <tr>\n",
       "      <th>0</th>\n",
       "      <td>Musicians to tackle US red tape  Musicians gro...</td>\n",
       "      <td>entertainment</td>\n",
       "    </tr>\n",
       "    <tr>\n",
       "      <th>1</th>\n",
       "      <td>U2s desire to be number one  U2, who have won ...</td>\n",
       "      <td>entertainment</td>\n",
       "    </tr>\n",
       "    <tr>\n",
       "      <th>2</th>\n",
       "      <td>Rocker Doherty in on-stage fight  Rock singer ...</td>\n",
       "      <td>entertainment</td>\n",
       "    </tr>\n",
       "  </tbody>\n",
       "</table>\n",
       "</div>\n",
       "    <div class=\"colab-df-buttons\">\n",
       "\n",
       "  <div class=\"colab-df-container\">\n",
       "    <button class=\"colab-df-convert\" onclick=\"convertToInteractive('df-6ccbcf24-50fb-4a43-9b67-ccfebda030de')\"\n",
       "            title=\"Convert this dataframe to an interactive table.\"\n",
       "            style=\"display:none;\">\n",
       "\n",
       "  <svg xmlns=\"http://www.w3.org/2000/svg\" height=\"24px\" viewBox=\"0 -960 960 960\">\n",
       "    <path d=\"M120-120v-720h720v720H120Zm60-500h600v-160H180v160Zm220 220h160v-160H400v160Zm0 220h160v-160H400v160ZM180-400h160v-160H180v160Zm440 0h160v-160H620v160ZM180-180h160v-160H180v160Zm440 0h160v-160H620v160Z\"/>\n",
       "  </svg>\n",
       "    </button>\n",
       "\n",
       "  <style>\n",
       "    .colab-df-container {\n",
       "      display:flex;\n",
       "      gap: 12px;\n",
       "    }\n",
       "\n",
       "    .colab-df-convert {\n",
       "      background-color: #E8F0FE;\n",
       "      border: none;\n",
       "      border-radius: 50%;\n",
       "      cursor: pointer;\n",
       "      display: none;\n",
       "      fill: #1967D2;\n",
       "      height: 32px;\n",
       "      padding: 0 0 0 0;\n",
       "      width: 32px;\n",
       "    }\n",
       "\n",
       "    .colab-df-convert:hover {\n",
       "      background-color: #E2EBFA;\n",
       "      box-shadow: 0px 1px 2px rgba(60, 64, 67, 0.3), 0px 1px 3px 1px rgba(60, 64, 67, 0.15);\n",
       "      fill: #174EA6;\n",
       "    }\n",
       "\n",
       "    .colab-df-buttons div {\n",
       "      margin-bottom: 4px;\n",
       "    }\n",
       "\n",
       "    [theme=dark] .colab-df-convert {\n",
       "      background-color: #3B4455;\n",
       "      fill: #D2E3FC;\n",
       "    }\n",
       "\n",
       "    [theme=dark] .colab-df-convert:hover {\n",
       "      background-color: #434B5C;\n",
       "      box-shadow: 0px 1px 3px 1px rgba(0, 0, 0, 0.15);\n",
       "      filter: drop-shadow(0px 1px 2px rgba(0, 0, 0, 0.3));\n",
       "      fill: #FFFFFF;\n",
       "    }\n",
       "  </style>\n",
       "\n",
       "    <script>\n",
       "      const buttonEl =\n",
       "        document.querySelector('#df-6ccbcf24-50fb-4a43-9b67-ccfebda030de button.colab-df-convert');\n",
       "      buttonEl.style.display =\n",
       "        google.colab.kernel.accessAllowed ? 'block' : 'none';\n",
       "\n",
       "      async function convertToInteractive(key) {\n",
       "        const element = document.querySelector('#df-6ccbcf24-50fb-4a43-9b67-ccfebda030de');\n",
       "        const dataTable =\n",
       "          await google.colab.kernel.invokeFunction('convertToInteractive',\n",
       "                                                    [key], {});\n",
       "        if (!dataTable) return;\n",
       "\n",
       "        const docLinkHtml = 'Like what you see? Visit the ' +\n",
       "          '<a target=\"_blank\" href=https://colab.research.google.com/notebooks/data_table.ipynb>data table notebook</a>'\n",
       "          + ' to learn more about interactive tables.';\n",
       "        element.innerHTML = '';\n",
       "        dataTable['output_type'] = 'display_data';\n",
       "        await google.colab.output.renderOutput(dataTable, element);\n",
       "        const docLink = document.createElement('div');\n",
       "        docLink.innerHTML = docLinkHtml;\n",
       "        element.appendChild(docLink);\n",
       "      }\n",
       "    </script>\n",
       "  </div>\n",
       "\n",
       "\n",
       "    <div id=\"df-e2408c2a-8e04-44d2-a00f-f3464447bdd9\">\n",
       "      <button class=\"colab-df-quickchart\" onclick=\"quickchart('df-e2408c2a-8e04-44d2-a00f-f3464447bdd9')\"\n",
       "                title=\"Suggest charts\"\n",
       "                style=\"display:none;\">\n",
       "\n",
       "<svg xmlns=\"http://www.w3.org/2000/svg\" height=\"24px\"viewBox=\"0 0 24 24\"\n",
       "     width=\"24px\">\n",
       "    <g>\n",
       "        <path d=\"M19 3H5c-1.1 0-2 .9-2 2v14c0 1.1.9 2 2 2h14c1.1 0 2-.9 2-2V5c0-1.1-.9-2-2-2zM9 17H7v-7h2v7zm4 0h-2V7h2v10zm4 0h-2v-4h2v4z\"/>\n",
       "    </g>\n",
       "</svg>\n",
       "      </button>\n",
       "\n",
       "<style>\n",
       "  .colab-df-quickchart {\n",
       "      --bg-color: #E8F0FE;\n",
       "      --fill-color: #1967D2;\n",
       "      --hover-bg-color: #E2EBFA;\n",
       "      --hover-fill-color: #174EA6;\n",
       "      --disabled-fill-color: #AAA;\n",
       "      --disabled-bg-color: #DDD;\n",
       "  }\n",
       "\n",
       "  [theme=dark] .colab-df-quickchart {\n",
       "      --bg-color: #3B4455;\n",
       "      --fill-color: #D2E3FC;\n",
       "      --hover-bg-color: #434B5C;\n",
       "      --hover-fill-color: #FFFFFF;\n",
       "      --disabled-bg-color: #3B4455;\n",
       "      --disabled-fill-color: #666;\n",
       "  }\n",
       "\n",
       "  .colab-df-quickchart {\n",
       "    background-color: var(--bg-color);\n",
       "    border: none;\n",
       "    border-radius: 50%;\n",
       "    cursor: pointer;\n",
       "    display: none;\n",
       "    fill: var(--fill-color);\n",
       "    height: 32px;\n",
       "    padding: 0;\n",
       "    width: 32px;\n",
       "  }\n",
       "\n",
       "  .colab-df-quickchart:hover {\n",
       "    background-color: var(--hover-bg-color);\n",
       "    box-shadow: 0 1px 2px rgba(60, 64, 67, 0.3), 0 1px 3px 1px rgba(60, 64, 67, 0.15);\n",
       "    fill: var(--button-hover-fill-color);\n",
       "  }\n",
       "\n",
       "  .colab-df-quickchart-complete:disabled,\n",
       "  .colab-df-quickchart-complete:disabled:hover {\n",
       "    background-color: var(--disabled-bg-color);\n",
       "    fill: var(--disabled-fill-color);\n",
       "    box-shadow: none;\n",
       "  }\n",
       "\n",
       "  .colab-df-spinner {\n",
       "    border: 2px solid var(--fill-color);\n",
       "    border-color: transparent;\n",
       "    border-bottom-color: var(--fill-color);\n",
       "    animation:\n",
       "      spin 1s steps(1) infinite;\n",
       "  }\n",
       "\n",
       "  @keyframes spin {\n",
       "    0% {\n",
       "      border-color: transparent;\n",
       "      border-bottom-color: var(--fill-color);\n",
       "      border-left-color: var(--fill-color);\n",
       "    }\n",
       "    20% {\n",
       "      border-color: transparent;\n",
       "      border-left-color: var(--fill-color);\n",
       "      border-top-color: var(--fill-color);\n",
       "    }\n",
       "    30% {\n",
       "      border-color: transparent;\n",
       "      border-left-color: var(--fill-color);\n",
       "      border-top-color: var(--fill-color);\n",
       "      border-right-color: var(--fill-color);\n",
       "    }\n",
       "    40% {\n",
       "      border-color: transparent;\n",
       "      border-right-color: var(--fill-color);\n",
       "      border-top-color: var(--fill-color);\n",
       "    }\n",
       "    60% {\n",
       "      border-color: transparent;\n",
       "      border-right-color: var(--fill-color);\n",
       "    }\n",
       "    80% {\n",
       "      border-color: transparent;\n",
       "      border-right-color: var(--fill-color);\n",
       "      border-bottom-color: var(--fill-color);\n",
       "    }\n",
       "    90% {\n",
       "      border-color: transparent;\n",
       "      border-bottom-color: var(--fill-color);\n",
       "    }\n",
       "  }\n",
       "</style>\n",
       "\n",
       "      <script>\n",
       "        async function quickchart(key) {\n",
       "          const quickchartButtonEl =\n",
       "            document.querySelector('#' + key + ' button');\n",
       "          quickchartButtonEl.disabled = true;  // To prevent multiple clicks.\n",
       "          quickchartButtonEl.classList.add('colab-df-spinner');\n",
       "          try {\n",
       "            const charts = await google.colab.kernel.invokeFunction(\n",
       "                'suggestCharts', [key], {});\n",
       "          } catch (error) {\n",
       "            console.error('Error during call to suggestCharts:', error);\n",
       "          }\n",
       "          quickchartButtonEl.classList.remove('colab-df-spinner');\n",
       "          quickchartButtonEl.classList.add('colab-df-quickchart-complete');\n",
       "        }\n",
       "        (() => {\n",
       "          let quickchartButtonEl =\n",
       "            document.querySelector('#df-e2408c2a-8e04-44d2-a00f-f3464447bdd9 button');\n",
       "          quickchartButtonEl.style.display =\n",
       "            google.colab.kernel.accessAllowed ? 'block' : 'none';\n",
       "        })();\n",
       "      </script>\n",
       "    </div>\n",
       "    </div>\n",
       "  </div>\n"
      ],
      "text/plain": [
       "                                                data         labels\n",
       "0  Musicians to tackle US red tape  Musicians gro...  entertainment\n",
       "1  U2s desire to be number one  U2, who have won ...  entertainment\n",
       "2  Rocker Doherty in on-stage fight  Rock singer ...  entertainment"
      ]
     },
     "execution_count": 6,
     "metadata": {},
     "output_type": "execute_result"
    }
   ],
   "source": [
    "df = df[[TEXT_COL, LABEL_COL]].dropna()\n",
    "vc = df[LABEL_COL].value_counts()\n",
    "keep_labels = vc[vc >= 50].index\n",
    "df = df[df[LABEL_COL].isin(keep_labels)].reset_index(drop=True)\n",
    "print('Классов после фильтра:', df[LABEL_COL].nunique())\n",
    "df.head(3)"
   ]
  },
  {
   "cell_type": "code",
   "execution_count": 7,
   "metadata": {
    "colab": {
     "base_uri": "https://localhost:8080/"
    },
    "executionInfo": {
     "elapsed": 24,
     "status": "ok",
     "timestamp": 1758449403406,
     "user": {
      "displayName": "Kirill",
      "userId": "13701387713715993778"
     },
     "user_tz": -180
    },
    "id": "kW2ABVVnwH9Y",
    "outputId": "182e5287-d454-4a39-b71a-2ae3df4434c5"
   },
   "outputs": [
    {
     "data": {
      "text/plain": [
       "(1780, 445)"
      ]
     },
     "execution_count": 7,
     "metadata": {},
     "output_type": "execute_result"
    }
   ],
   "source": [
    "from sklearn.model_selection import train_test_split\n",
    "X_train, X_valid, y_train, y_valid = train_test_split(\n",
    "    df[TEXT_COL], df[LABEL_COL], test_size=0.2, random_state=42, stratify=df[LABEL_COL]\n",
    ")\n",
    "len(X_train), len(X_valid)"
   ]
  },
  {
   "cell_type": "code",
   "execution_count": 9,
   "metadata": {
    "colab": {
     "base_uri": "https://localhost:8080/"
    },
    "executionInfo": {
     "elapsed": 4855,
     "status": "ok",
     "timestamp": 1758449593354,
     "user": {
      "displayName": "Kirill",
      "userId": "13701387713715993778"
     },
     "user_tz": -180
    },
    "id": "AgIxpUcbwKA-",
    "outputId": "f78a5323-caab-409e-8874-fc41a3d08a87"
   },
   "outputs": [
    {
     "name": "stdout",
     "output_type": "stream",
     "text": [
      "TFIDF+LinearSVC -> acc: 0.9865168539325843 macroF1: 0.9860432447811089\n",
      "               precision    recall  f1-score   support\n",
      "\n",
      "     business       0.97      0.99      0.98       102\n",
      "entertainment       0.97      1.00      0.99        77\n",
      "     politics       0.99      0.99      0.99        84\n",
      "        sport       1.00      1.00      1.00       102\n",
      "         tech       1.00      0.95      0.97        80\n",
      "\n",
      "     accuracy                           0.99       445\n",
      "    macro avg       0.99      0.99      0.99       445\n",
      " weighted avg       0.99      0.99      0.99       445\n",
      "\n"
     ]
    },
    {
     "data": {
      "text/plain": [
       "['models/tfidf_linear.joblib']"
      ]
     },
     "execution_count": 9,
     "metadata": {},
     "output_type": "execute_result"
    }
   ],
   "source": [
    "from sklearn.feature_extraction.text import TfidfVectorizer\n",
    "from sklearn.pipeline import Pipeline\n",
    "from sklearn.linear_model import LogisticRegression\n",
    "from sklearn.svm import LinearSVC\n",
    "from sklearn.metrics import accuracy_score, f1_score, classification_report\n",
    "from joblib import dump\n",
    "import os\n",
    "\n",
    "USE_LINEAR_SVC = True\n",
    "\n",
    "model = Pipeline([\n",
    "    ('tfidf', TfidfVectorizer(ngram_range=NGRAMS, max_features=MAX_FEATURES, min_df=2)),\n",
    "    ('clf', LinearSVC() if USE_LINEAR_SVC else LogisticRegression(max_iter=200, n_jobs=-1, solver='saga'))\n",
    "])\n",
    "\n",
    "model.fit(X_train, y_train)\n",
    "pred = model.predict(X_valid)\n",
    "acc = accuracy_score(y_valid, pred)\n",
    "f1 = f1_score(y_valid, pred, average='macro')\n",
    "print('TFIDF+{} -> acc:'.format('LinearSVC' if USE_LINEAR_SVC else 'LR'), acc, 'macroF1:', f1)\n",
    "print(classification_report(y_valid, pred))\n",
    "\n",
    "os.makedirs(\"models\", exist_ok=True)\n",
    "dump(model, \"models/tfidf_linear.joblib\")"
   ]
  },
  {
   "cell_type": "code",
   "execution_count": 15,
   "metadata": {
    "colab": {
     "base_uri": "https://localhost:8080/",
     "height": 381,
     "referenced_widgets": [
      "3f6aece6448c4d69b189d8cf56b1aa46",
      "bb78adff5f0149bcb18cd89beb31dfd7",
      "dd10055a4e844790b10ba004a6f7209c",
      "87043159e465457ca156d7c568f8a34b",
      "3ec3735b2fc841798c3a152831e8d7cb",
      "3516bb7000af4d1b9b54e77bb900062c",
      "c24e6244f8024eb49a5025a1a24c5eb9",
      "88eb28faf21242f7b788405e25e42288",
      "de7581b9dbb148f0a0ee6985d8bbd076",
      "c04682c368404c35b39386b8d9bf375e",
      "f703d59a838c4c9da323fdd7532e7a1b",
      "03ac437fde4f46128ee26d5b8ee133dc",
      "2d44d4c3a6fa46d6b8b3ce8ed4eb460e",
      "a6bdc86bb3ea4e2285ac218dcba05b46",
      "9658561e590245ccbcb6a97641d354b1",
      "cc23c2eba6a74ace8a2bda488e0be90d",
      "0491fef69bce4425a20ff9f26e268a7b",
      "1dc7a66f14af46c987a7280b481b10fe",
      "cc4f27db89dc4c258df0b553fdd8bc16",
      "064c6ea2ad3943a29e8f5581b3804670",
      "9566c69f763f43f7a1416346811b1c16",
      "984e2903ebad4a8c8435281689ed9f97"
     ]
    },
    "executionInfo": {
     "elapsed": 1175160,
     "status": "ok",
     "timestamp": 1758451572713,
     "user": {
      "displayName": "Kirill",
      "userId": "13701387713715993778"
     },
     "user_tz": -180
    },
    "id": "NKIm4biaxLDP",
    "outputId": "e63ddb4a-3667-4f55-866e-776ca4b0c74d"
   },
   "outputs": [
    {
     "data": {
      "application/vnd.jupyter.widget-view+json": {
       "model_id": "3f6aece6448c4d69b189d8cf56b1aa46",
       "version_major": 2,
       "version_minor": 0
      },
      "text/plain": [
       "Map:   0%|          | 0/1780 [00:00<?, ? examples/s]"
      ]
     },
     "metadata": {},
     "output_type": "display_data"
    },
    {
     "data": {
      "application/vnd.jupyter.widget-view+json": {
       "model_id": "03ac437fde4f46128ee26d5b8ee133dc",
       "version_major": 2,
       "version_minor": 0
      },
      "text/plain": [
       "Map:   0%|          | 0/445 [00:00<?, ? examples/s]"
      ]
     },
     "metadata": {},
     "output_type": "display_data"
    },
    {
     "name": "stderr",
     "output_type": "stream",
     "text": [
      "Some weights of DistilBertForSequenceClassification were not initialized from the model checkpoint at distilbert-base-uncased and are newly initialized: ['classifier.bias', 'classifier.weight', 'pre_classifier.bias', 'pre_classifier.weight']\n",
      "You should probably TRAIN this model on a down-stream task to be able to use it for predictions and inference.\n",
      "Using the `WANDB_DISABLED` environment variable is deprecated and will be removed in v5. Use the --report_to flag to control the integrations used for logging result (for instance --report_to none).\n",
      "/usr/local/lib/python3.12/dist-packages/torch/utils/data/dataloader.py:666: UserWarning: 'pin_memory' argument is set as true but no accelerator is found, then device pinned memory won't be used.\n",
      "  warnings.warn(warn_msg)\n"
     ]
    },
    {
     "data": {
      "text/html": [
       "\n",
       "    <div>\n",
       "      \n",
       "      <progress value='223' max='223' style='width:300px; height:20px; vertical-align: middle;'></progress>\n",
       "      [223/223 17:59, Epoch 1/1]\n",
       "    </div>\n",
       "    <table border=\"1\" class=\"dataframe\">\n",
       "  <thead>\n",
       " <tr style=\"text-align: left;\">\n",
       "      <th>Step</th>\n",
       "      <th>Training Loss</th>\n",
       "    </tr>\n",
       "  </thead>\n",
       "  <tbody>\n",
       "    <tr>\n",
       "      <td>100</td>\n",
       "      <td>0.897500</td>\n",
       "    </tr>\n",
       "    <tr>\n",
       "      <td>200</td>\n",
       "      <td>0.212100</td>\n",
       "    </tr>\n",
       "  </tbody>\n",
       "</table><p>"
      ],
      "text/plain": [
       "<IPython.core.display.HTML object>"
      ]
     },
     "metadata": {},
     "output_type": "display_data"
    },
    {
     "name": "stderr",
     "output_type": "stream",
     "text": [
      "/usr/local/lib/python3.12/dist-packages/torch/utils/data/dataloader.py:666: UserWarning: 'pin_memory' argument is set as true but no accelerator is found, then device pinned memory won't be used.\n",
      "  warnings.warn(warn_msg)\n"
     ]
    },
    {
     "data": {
      "text/html": [
       "\n",
       "    <div>\n",
       "      \n",
       "      <progress value='56' max='56' style='width:300px; height:20px; vertical-align: middle;'></progress>\n",
       "      [56/56 01:20]\n",
       "    </div>\n",
       "    "
      ],
      "text/plain": [
       "<IPython.core.display.HTML object>"
      ]
     },
     "metadata": {},
     "output_type": "display_data"
    },
    {
     "name": "stdout",
     "output_type": "stream",
     "text": [
      "{'eval_loss': 0.12326857447624207, 'eval_accuracy': 0.9775280898876404, 'eval_macro_f1': 0.9775055539457161, 'eval_runtime': 81.4042, 'eval_samples_per_second': 5.467, 'eval_steps_per_second': 0.688, 'epoch': 1.0}\n"
     ]
    }
   ],
   "source": [
    "RUN_BERT = True\n",
    "\n",
    "import os, numpy as np\n",
    "os.environ[\"WANDB_DISABLED\"] = \"true\"\n",
    "os.environ[\"WANDB_MODE\"] = \"disabled\"\n",
    "\n",
    "from sklearn.preprocessing import LabelEncoder\n",
    "from transformers import AutoTokenizer, AutoModelForSequenceClassification, Trainer, TrainingArguments\n",
    "from datasets import Dataset\n",
    "\n",
    "MODEL_NAME = \"distilbert-base-uncased\"  # for even faster runs: \"prajjwal1/bert-tiny\"\n",
    "\n",
    "le_bert = LabelEncoder()\n",
    "y_train_ids = le_bert.fit_transform(y_train)\n",
    "y_valid_ids = le_bert.transform(y_valid)\n",
    "num_labels = len(le_bert.classes_)\n",
    "\n",
    "tokenizer = AutoTokenizer.from_pretrained(MODEL_NAME)\n",
    "\n",
    "def tok(batch):\n",
    "    return tokenizer(batch[TEXT_COL], truncation=True, padding='max_length', max_length=128)\n",
    "\n",
    "ds_train = Dataset.from_dict({TEXT_COL: list(X_train), 'labels': y_train_ids}).map(tok, batched=True).remove_columns([TEXT_COL])\n",
    "ds_valid = Dataset.from_dict({TEXT_COL: list(X_valid), 'labels': y_valid_ids}).map(tok, batched=True).remove_columns([TEXT_COL])\n",
    "\n",
    "bert_model = AutoModelForSequenceClassification.from_pretrained(MODEL_NAME, num_labels=num_labels)\n",
    "\n",
    "def compute_metrics(eval_pred):\n",
    "    logits, labels = eval_pred\n",
    "    preds = np.argmax(logits, axis=1)\n",
    "    from sklearn.metrics import accuracy_score, f1_score\n",
    "    return {'accuracy': accuracy_score(labels, preds), 'macro_f1': f1_score(labels, preds, average='macro')}\n",
    "\n",
    "args = TrainingArguments(\n",
    "    output_dir=\"models/bert\",\n",
    "    learning_rate=2e-5,\n",
    "    per_device_train_batch_size=8,\n",
    "    per_device_eval_batch_size=8,\n",
    "    num_train_epochs=1,\n",
    "    logging_steps=100\n",
    ")\n",
    "\n",
    "trainer = Trainer(model=bert_model, args=args, train_dataset=ds_train, eval_dataset=ds_valid, compute_metrics=compute_metrics)\n",
    "trainer.train()\n",
    "metrics = trainer.evaluate()\n",
    "print(metrics)"
   ]
  },
  {
   "cell_type": "code",
   "execution_count": 19,
   "metadata": {
    "colab": {
     "base_uri": "https://localhost:8080/"
    },
    "executionInfo": {
     "elapsed": 110851,
     "status": "ok",
     "timestamp": 1758452045702,
     "user": {
      "displayName": "Kirill",
      "userId": "13701387713715993778"
     },
     "user_tz": -180
    },
    "id": "8r64b2LMxQsS",
    "outputId": "7f81d782-fbc2-4cca-9ef0-c0ff98c12ea0"
   },
   "outputs": [
    {
     "name": "stdout",
     "output_type": "stream",
     "text": [
      "STACK acc: 0.9887640449438202 macroF1: 0.9889190306882945\n"
     ]
    }
   ],
   "source": [
    "import numpy as np\n",
    "from joblib import load\n",
    "from sklearn.calibration import CalibratedClassifierCV\n",
    "from sklearn.linear_model import LogisticRegression\n",
    "from sklearn.metrics import accuracy_score, f1_score\n",
    "from sklearn.feature_extraction.text import TfidfVectorizer\n",
    "from sklearn.pipeline import Pipeline\n",
    "from sklearn.svm import LinearSVC\n",
    "\n",
    "def get_classic():\n",
    "    try:\n",
    "        return load(\"models/tfidf_linear.joblib\")\n",
    "    except:\n",
    "        vec = TfidfVectorizer(ngram_range=NGRAMS, max_features=MAX_FEATURES, min_df=2)\n",
    "        clf = LinearSVC() if USE_LINEAR_SVC else LogisticRegression(max_iter=200, n_jobs=-1, solver='saga')\n",
    "        m = Pipeline([('tfidf', vec), ('clf', clf)])\n",
    "        m.fit(X_train, y_train)\n",
    "        return m\n",
    "\n",
    "classic = get_classic()\n",
    "clf = CalibratedClassifierCV(classic, method='sigmoid', cv=3) if USE_LINEAR_SVC else classic\n",
    "if USE_LINEAR_SVC:\n",
    "    clf.fit(X_train, y_train)\n",
    "\n",
    "proba_lr = clf.predict_proba(X_valid)\n",
    "probas = [proba_lr]\n",
    "\n",
    "if 'RUN_BERT' in globals() and RUN_BERT and 'bert_model' in globals():\n",
    "    import torch\n",
    "    from transformers import AutoTokenizer\n",
    "    tok = AutoTokenizer.from_pretrained(MODEL_NAME)\n",
    "    def bert_proba(texts):\n",
    "        bert_model.eval()\n",
    "        out = []\n",
    "        for t in texts:\n",
    "            enc = tok(t, truncation=True, padding='max_length', max_length=128, return_tensors='pt')\n",
    "            with torch.no_grad():\n",
    "                p = torch.softmax(bert_model(**enc).logits, dim=-1).cpu().numpy()[0]\n",
    "            out.append(p)\n",
    "        return np.array(out)\n",
    "    probas.append(bert_proba(X_valid.tolist()))\n",
    "\n",
    "X_meta = np.hstack(probas)\n",
    "meta = LogisticRegression(max_iter=200)\n",
    "meta.fit(X_meta, y_valid)\n",
    "pred_meta = meta.predict(X_meta)\n",
    "print('STACK acc:', accuracy_score(y_valid, pred_meta), 'macroF1:', f1_score(y_valid, pred_meta, average='macro'))"
   ]
  },
  {
   "cell_type": "code",
   "execution_count": 21,
   "metadata": {
    "colab": {
     "base_uri": "https://localhost:8080/"
    },
    "executionInfo": {
     "elapsed": 9,
     "status": "ok",
     "timestamp": 1758452101804,
     "user": {
      "displayName": "Kirill",
      "userId": "13701387713715993778"
     },
     "user_tz": -180
    },
    "id": "V3b9lR0v6Sxy",
    "outputId": "f64319dc-44e0-4dfb-f0fa-8fb69a13aa43"
   },
   "outputs": [
    {
     "name": "stdout",
     "output_type": "stream",
     "text": [
      "Saved: reports/summary.json\n"
     ]
    }
   ],
   "source": [
    "import os, json, time\n",
    "\n",
    "os.makedirs(\"reports\", exist_ok=True)\n",
    "report = {\n",
    "    \"timestamp\": time.strftime(\"%Y-%m-%d %H:%M:%S\"),\n",
    "    \"classes\": sorted(df[LABEL_COL].unique().tolist()),\n",
    "    \"samples_total\": int(df.shape[0])\n",
    "}\n",
    "out_path = \"reports/summary.json\"\n",
    "with open(out_path, \"w\", encoding=\"utf-8\") as f:\n",
    "    json.dump(report, f, ensure_ascii=False, indent=2)\n",
    "print(\"Saved:\", out_path)"
   ]
  },
  {
   "cell_type": "code",
   "execution_count": 23,
   "metadata": {
    "colab": {
     "base_uri": "https://localhost:8080/",
     "height": 504
    },
    "executionInfo": {
     "elapsed": 440,
     "status": "ok",
     "timestamp": 1758452143002,
     "user": {
      "displayName": "Kirill",
      "userId": "13701387713715993778"
     },
     "user_tz": -180
    },
    "id": "i4nFoIEQ6eXe",
    "outputId": "68824e2f-e651-4fbf-a7a0-4b4219bb9510"
   },
   "outputs": [
    {
     "data": {
      "image/png": "[encoded data removed]",
      "text/plain": [
       "<Figure size 640x480 with 1 Axes>"
      ]
     },
     "metadata": {},
     "output_type": "display_data"
    },
    {
     "name": "stdout",
     "output_type": "stream",
     "text": [
      "Saved: reports/class_distribution.png\n"
     ]
    }
   ],
   "source": [
    "import os\n",
    "import matplotlib.pyplot as plt\n",
    "\n",
    "os.makedirs(\"reports\", exist_ok=True)\n",
    "ax = df[LABEL_COL].value_counts().sort_values(ascending=False).plot(kind=\"bar\")\n",
    "ax.set_title(\"Распределение классов\")\n",
    "ax.set_xlabel(\"Класс\")\n",
    "ax.set_ylabel(\"Число образцов\")\n",
    "plt.tight_layout()\n",
    "plt.savefig(\"reports/class_distribution.png\", dpi=150)\n",
    "plt.show()\n",
    "print(\"Saved: reports/class_distribution.png\")"
   ]
  },
  {
   "cell_type": "code",
   "execution_count": 27,
   "metadata": {
    "colab": {
     "base_uri": "https://localhost:8080/",
     "height": 998
    },
    "executionInfo": {
     "elapsed": 103309,
     "status": "ok",
     "timestamp": 1758452375592,
     "user": {
      "displayName": "Kirill",
      "userId": "13701387713715993778"
     },
     "user_tz": -180
    },
    "id": "Yj_KvSXr6n1a",
    "outputId": "49a9c59b-8d4c-4d78-98ab-8f03a2a8979b"
   },
   "outputs": [
    {
     "data": {
      "image/png": "[encoded data removed]",
      "text/plain": [
       "<Figure size 800x800 with 2 Axes>"
      ]
     },
     "metadata": {},
     "output_type": "display_data"
    },
    {
     "name": "stdout",
     "output_type": "stream",
     "text": [
      "               precision    recall  f1-score   support\n",
      "\n",
      "     business       0.96      0.95      0.96       102\n",
      "entertainment       0.99      0.97      0.98        77\n",
      "     politics       0.97      0.99      0.98        84\n",
      "        sport       1.00      1.00      1.00       102\n",
      "         tech       0.97      0.97      0.97        80\n",
      "\n",
      "     accuracy                           0.98       445\n",
      "    macro avg       0.98      0.98      0.98       445\n",
      " weighted avg       0.98      0.98      0.98       445\n",
      "\n",
      "Saved: reports/confusion_matrix.png\n"
     ]
    }
   ],
   "source": [
    "import os, numpy as np, torch, matplotlib.pyplot as plt\n",
    "from sklearn.metrics import confusion_matrix, ConfusionMatrixDisplay, classification_report\n",
    "\n",
    "os.makedirs(\"reports\", exist_ok=True)\n",
    "\n",
    "def predict_sklearn():\n",
    "    return model.predict(X_valid)\n",
    "\n",
    "def predict_bert():\n",
    "    bert_model.eval()\n",
    "    out = []\n",
    "    for t in X_valid.tolist():\n",
    "        enc = tokenizer(t, truncation=True, padding='max_length', max_length=128, return_tensors='pt')\n",
    "        with torch.no_grad():\n",
    "            p = torch.argmax(bert_model(**enc).logits, dim=-1).cpu().numpy()[0]\n",
    "        out.append(le_bert.inverse_transform([p])[0])\n",
    "    return np.array(out)\n",
    "\n",
    "try:\n",
    "    pred = predict_sklearn()\n",
    "except Exception:\n",
    "    pred = predict_bert()\n",
    "\n",
    "labels = sorted(y_valid.unique())\n",
    "cm = confusion_matrix(y_valid, pred, labels=labels)\n",
    "disp = ConfusionMatrixDisplay(confusion_matrix=cm, display_labels=labels)\n",
    "fig, ax = plt.subplots(figsize=(8, 8))\n",
    "disp.plot(ax=ax, xticks_rotation=90)\n",
    "plt.tight_layout()\n",
    "plt.savefig(\"reports/confusion_matrix.png\", dpi=150)\n",
    "plt.show()\n",
    "\n",
    "print(classification_report(y_valid, pred))\n",
    "print(\"Saved: reports/confusion_matrix.png\")"
   ]
  },
  {
   "cell_type": "code",
   "execution_count": 29,
   "metadata": {
    "colab": {
     "base_uri": "https://localhost:8080/",
     "height": 522
    },
    "executionInfo": {
     "elapsed": 270742,
     "status": "ok",
     "timestamp": 1758453329848,
     "user": {
      "displayName": "Kirill",
      "userId": "13701387713715993778"
     },
     "user_tz": -180
    },
    "id": "XV3O3NzK7jaV",
    "outputId": "2954290f-c83c-49d5-a9fd-820499fe5250"
   },
   "outputs": [
    {
     "name": "stdout",
     "output_type": "stream",
     "text": [
      "Saved: reports/benchmark_speed.csv\n"
     ]
    },
    {
     "data": {
      "image/png": "[encoded data removed]",
      "text/plain": [
       "<Figure size 640x480 with 1 Axes>"
      ]
     },
     "metadata": {},
     "output_type": "display_data"
    },
    {
     "name": "stdout",
     "output_type": "stream",
     "text": [
      "Saved: reports/benchmark_speed.png\n"
     ]
    }
   ],
   "source": [
    "import os, time, numpy as np, pandas as pd\n",
    "os.makedirs(\"reports\", exist_ok=True)\n",
    "\n",
    "results = []\n",
    "\n",
    "if 'bert_model' in globals():\n",
    "    import torch\n",
    "    from transformers import AutoTokenizer\n",
    "    tok = AutoTokenizer.from_pretrained(MODEL_NAME)\n",
    "    def time_batch(bs, sl, steps=10):\n",
    "        texts = [\" \".join([\"word\"]*sl)]*bs\n",
    "        enc = tok(texts, truncation=True, padding='max_length', max_length=sl, return_tensors='pt')\n",
    "        with torch.no_grad():\n",
    "            _ = bert_model(**enc)\n",
    "        t0 = time.time()\n",
    "        with torch.no_grad():\n",
    "            for _ in range(steps):\n",
    "                _ = bert_model(**enc)\n",
    "        return (time.time()-t0)/steps\n",
    "    for bs, sl in [(8,128),(16,128),(32,128),(16,256),(16,384)]:\n",
    "        try:\n",
    "            dt = time_batch(bs, sl)\n",
    "        except Exception:\n",
    "            dt = None\n",
    "        results.append({\"model\":\"bert\",\"batch_size\":bs,\"seq_len\":sl,\"sec_per_batch\":dt})\n",
    "else:\n",
    "    from time import perf_counter\n",
    "    sample = X_valid.sample(min(500, len(X_valid)), random_state=42).tolist()\n",
    "    for bs in [8,16,32,64]:\n",
    "        texts = (sample*(bs//len(sample)+1))[:bs]\n",
    "        t0 = perf_counter()\n",
    "        _ = model.predict(texts)\n",
    "        dt = perf_counter() - t0\n",
    "        results.append({\"model\":\"classic\",\"batch_size\":bs,\"seq_len\":None,\"sec_per_batch\":dt})\n",
    "\n",
    "bench_df = pd.DataFrame(results)\n",
    "bench_df.to_csv(\"reports/benchmark_speed.csv\", index=False)\n",
    "print(\"Saved: reports/benchmark_speed.csv\")\n",
    "\n",
    "import matplotlib.pyplot as plt\n",
    "\n",
    "if (bench_df[\"model\"]==\"bert\").any():\n",
    "    sub = bench_df[bench_df[\"model\"]==\"bert\"]\n",
    "    if not sub.empty:\n",
    "        plt.figure()\n",
    "        for bs in sorted(sub[\"batch_size\"].unique()):\n",
    "            s = sub[sub[\"batch_size\"]==bs].sort_values(\"seq_len\")\n",
    "            plt.plot(s[\"seq_len\"], s[\"sec_per_batch\"], marker=\"o\", label=f\"bs={bs}\")\n",
    "        plt.legend()\n",
    "        plt.xlabel(\"seq_len\"); plt.ylabel(\"sec_per_batch\")\n",
    "        plt.tight_layout()\n",
    "        plt.savefig(\"reports/benchmark_speed.png\", dpi=150)\n",
    "        plt.show()\n",
    "else:\n",
    "    sub = bench_df[bench_df[\"model\"]==\"classic\"].sort_values(\"batch_size\")\n",
    "    if not sub.empty:\n",
    "        plt.figure()\n",
    "        plt.plot(sub[\"batch_size\"], sub[\"sec_per_batch\"], marker=\"o\")\n",
    "        plt.xlabel(\"batch_size\"); plt.ylabel(\"sec_per_batch\")\n",
    "        plt.tight_layout()\n",
    "        plt.savefig(\"reports/benchmark_speed.png\", dpi=150)\n",
    "        plt.show()\n",
    "\n",
    "print(\"Saved: reports/benchmark_speed.png\")"
   ]
  },
  {
   "cell_type": "code",
   "execution_count": 33,
   "metadata": {
    "colab": {
     "base_uri": "https://localhost:8080/",
     "height": 957
    },
    "executionInfo": {
     "elapsed": 713,
     "status": "ok",
     "timestamp": 1758454152974,
     "user": {
      "displayName": "Kirill",
      "userId": "13701387713715993778"
     },
     "user_tz": -180
    },
    "id": "rlMxJPq2CPRL",
    "outputId": "74387096-8727-45df-d528-57b3bfcc8c6c"
   },
   "outputs": [
    {
     "data": {
      "image/png": "[encoded data removed]",
      "text/plain": [
       "<Figure size 640x480 with 1 Axes>"
      ]
     },
     "metadata": {},
     "output_type": "display_data"
    },
    {
     "data": {
      "image/png": "[encoded data removed]",
      "text/plain": [
       "<Figure size 640x480 with 1 Axes>"
      ]
     },
     "metadata": {},
     "output_type": "display_data"
    }
   ],
   "source": [
    "import os, matplotlib.pyplot as plt\n",
    "os.makedirs(\"reports\", exist_ok=True)\n",
    "\n",
    "ax = df[LABEL_COL].value_counts().sort_values(ascending=False).plot(kind=\"bar\")\n",
    "ax.set_title(\"Class distribution\"); ax.set_xlabel(\"Class\"); ax.set_ylabel(\"Count\")\n",
    "plt.tight_layout(); plt.savefig(\"reports/class_distribution.png\", dpi=150); plt.show()\n",
    "\n",
    "lens = df[TEXT_COL].astype(str).str.split().str.len()\n",
    "plt.figure(); lens.hist(bins=40)\n",
    "plt.title(\"Document length (words)\"); plt.xlabel(\"Words\"); plt.ylabel(\"Count\")\n",
    "plt.tight_layout(); plt.savefig(\"reports/doc_length_hist.png\", dpi=150); plt.show()"
   ]
  },
  {
   "cell_type": "code",
   "execution_count": null,
   "metadata": {
    "colab": {
     "base_uri": "https://localhost:8080/"
    },
    "id": "5GZRewC7D2wm",
    "outputId": "c0ec044a-a537-448c-9409-8c911414808e"
   },
   "outputs": [
    {
     "data": {
      "image/png": "[encoded data removed]",
      "text/plain": [
       "<Figure size 800x600 with 1 Axes>"
      ]
     },
     "metadata": {},
     "output_type": "display_data"
    }
   ],
   "source": [
    "import os, numpy as np, pandas as pd, matplotlib.pyplot as plt\n",
    "from joblib import load\n",
    "from sklearn.pipeline import Pipeline\n",
    "from sklearn.feature_extraction.text import TfidfVectorizer\n",
    "from sklearn.svm import LinearSVC\n",
    "from sklearn.linear_model import LogisticRegression\n",
    "\n",
    "os.makedirs(\"reports\", exist_ok=True)\n",
    "\n",
    "try:\n",
    "    NGRAMS\n",
    "except NameError:\n",
    "    NGRAMS = (1,2)\n",
    "try:\n",
    "    MAX_FEATURES\n",
    "except NameError:\n",
    "    MAX_FEATURES = 50000\n",
    "\n",
    "pipe = None\n",
    "try:\n",
    "    if 'model' in globals() and hasattr(model, 'named_steps'):\n",
    "        pipe = model\n",
    "except:\n",
    "    pass\n",
    "if pipe is None:\n",
    "    for p in [\"models/tfidf_linear.joblib\", \"models/tfidf_logreg.joblib\"]:\n",
    "        try:\n",
    "            pipe = load(p)\n",
    "            break\n",
    "        except:\n",
    "            pass\n",
    "if pipe is None:\n",
    "    vec = TfidfVectorizer(ngram_range=NGRAMS, max_features=MAX_FEATURES, min_df=2)\n",
    "    clf = LinearSVC()\n",
    "    pipe = Pipeline([('tfidf', vec), ('clf', clf)])\n",
    "    pipe.fit(X_train, y_train)\n",
    "\n",
    "vec = pipe.named_steps['tfidf']\n",
    "clf = pipe.named_steps['clf']\n",
    "feat = np.array(vec.get_feature_names_out())\n",
    "classes = np.array(clf.classes_)\n",
    "coefs = clf.coef_\n",
    "if coefs.shape[0] == 1 and len(classes) == 2:\n",
    "    coefs = np.vstack([-coefs[0], coefs[0]])\n",
    "\n",
    "def topn(a, n=20):\n",
    "    idx = np.argsort(a)[-n:]\n",
    "    return idx, a[idx]\n",
    "\n",
    "for i, c in enumerate(classes):\n",
    "    idx, w = topn(coefs[i], 20)\n",
    "    words = feat[idx]\n",
    "    pd.DataFrame({\"word\": words, \"weight\": w}).to_csv(f\"reports/top_words_{c}.csv\", index=False)\n",
    "    order = np.argsort(w)\n",
    "    plt.figure(figsize=(8,6))\n",
    "    plt.barh(range(len(words)), w[order])\n",
    "    plt.yticks(range(len(words)), words[order])\n",
    "    plt.title(f\"Top words: {c}\")\n",
    "    plt.tight_layout()\n",
    "    plt.savefig(f\"reports/top_words_{c}.png\", dpi=150)\n",
    "    plt.show()\n",
    "\n",
    "print(\"Saved per-class PNGs and CSVs in reports/\")"
   ]
  },
  {
   "cell_type": "code",
   "execution_count": 31,
   "metadata": {
    "colab": {
     "base_uri": "https://localhost:8080/",
     "height": 90
    },
    "executionInfo": {
     "elapsed": 40005,
     "status": "ok",
     "timestamp": 1758453974139,
     "user": {
      "displayName": "Kirill",
      "userId": "13701387713715993778"
     },
     "user_tz": -180
    },
    "id": "DmxBUfBnBI25",
    "outputId": "d992eac8-2f33-4882-db35-713c5020e52d"
   },
   "outputs": [
    {
     "data": {
      "text/html": [
       "\n",
       "     <input type=\"file\" id=\"files-d003894b-cb90-455b-b401-68a6958c0b83\" name=\"files[]\" multiple disabled\n",
       "        style=\"border:none\" />\n",
       "     <output id=\"result-d003894b-cb90-455b-b401-68a6958c0b83\">\n",
       "      Upload widget is only available when the cell has been executed in the\n",
       "      current browser session. Please rerun this cell to enable.\n",
       "      </output>\n",
       "      <script>// Copyright 2017 Google LLC\n",
       "//\n",
       "// Licensed under the Apache License, Version 2.0 (the \"License\");\n",
       "// you may not use this file except in compliance with the License.\n",
       "// You may obtain a copy of the License at\n",
       "//\n",
       "//      http://www.apache.org/licenses/LICENSE-2.0\n",
       "//\n",
       "// Unless required by applicable law or agreed to in writing, software\n",
       "// distributed under the License is distributed on an \"AS IS\" BASIS,\n",
       "// WITHOUT WARRANTIES OR CONDITIONS OF ANY KIND, either express or implied.\n",
       "// See the License for the specific language governing permissions and\n",
       "// limitations under the License.\n",
       "\n",
       "/**\n",
       " * @fileoverview Helpers for google.colab Python module.\n",
       " */\n",
       "(function(scope) {\n",
       "function span(text, styleAttributes = {}) {\n",
       "  const element = document.createElement('span');\n",
       "  element.textContent = text;\n",
       "  for (const key of Object.keys(styleAttributes)) {\n",
       "    element.style[key] = styleAttributes[key];\n",
       "  }\n",
       "  return element;\n",
       "}\n",
       "\n",
       "// Max number of bytes which will be uploaded at a time.\n",
       "const MAX_PAYLOAD_SIZE = 100 * 1024;\n",
       "\n",
       "function _uploadFiles(inputId, outputId) {\n",
       "  const steps = uploadFilesStep(inputId, outputId);\n",
       "  const outputElement = document.getElementById(outputId);\n",
       "  // Cache steps on the outputElement to make it available for the next call\n",
       "  // to uploadFilesContinue from Python.\n",
       "  outputElement.steps = steps;\n",
       "\n",
       "  return _uploadFilesContinue(outputId);\n",
       "}\n",
       "\n",
       "// This is roughly an async generator (not supported in the browser yet),\n",
       "// where there are multiple asynchronous steps and the Python side is going\n",
       "// to poll for completion of each step.\n",
       "// This uses a Promise to block the python side on completion of each step,\n",
       "// then passes the result of the previous step as the input to the next step.\n",
       "function _uploadFilesContinue(outputId) {\n",
       "  const outputElement = document.getElementById(outputId);\n",
       "  const steps = outputElement.steps;\n",
       "\n",
       "  const next = steps.next(outputElement.lastPromiseValue);\n",
       "  return Promise.resolve(next.value.promise).then((value) => {\n",
       "    // Cache the last promise value to make it available to the next\n",
       "    // step of the generator.\n",
       "    outputElement.lastPromiseValue = value;\n",
       "    return next.value.response;\n",
       "  });\n",
       "}\n",
       "\n",
       "/**\n",
       " * Generator function which is called between each async step of the upload\n",
       " * process.\n",
       " * @param {string} inputId Element ID of the input file picker element.\n",
       " * @param {string} outputId Element ID of the output display.\n",
       " * @return {!Iterable<!Object>} Iterable of next steps.\n",
       " */\n",
       "function* uploadFilesStep(inputId, outputId) {\n",
       "  const inputElement = document.getElementById(inputId);\n",
       "  inputElement.disabled = false;\n",
       "\n",
       "  const outputElement = document.getElementById(outputId);\n",
       "  outputElement.innerHTML = '';\n",
       "\n",
       "  const pickedPromise = new Promise((resolve) => {\n",
       "    inputElement.addEventListener('change', (e) => {\n",
       "      resolve(e.target.files);\n",
       "    });\n",
       "  });\n",
       "\n",
       "  const cancel = document.createElement('button');\n",
       "  inputElement.parentElement.appendChild(cancel);\n",
       "  cancel.textContent = 'Cancel upload';\n",
       "  const cancelPromise = new Promise((resolve) => {\n",
       "    cancel.onclick = () => {\n",
       "      resolve(null);\n",
       "    };\n",
       "  });\n",
       "\n",
       "  // Wait for the user to pick the files.\n",
       "  const files = yield {\n",
       "    promise: Promise.race([pickedPromise, cancelPromise]),\n",
       "    response: {\n",
       "      action: 'starting',\n",
       "    }\n",
       "  };\n",
       "\n",
       "  cancel.remove();\n",
       "\n",
       "  // Disable the input element since further picks are not allowed.\n",
       "  inputElement.disabled = true;\n",
       "\n",
       "  if (!files) {\n",
       "    return {\n",
       "      response: {\n",
       "        action: 'complete',\n",
       "      }\n",
       "    };\n",
       "  }\n",
       "\n",
       "  for (const file of files) {\n",
       "    const li = document.createElement('li');\n",
       "    li.append(span(file.name, {fontWeight: 'bold'}));\n",
       "    li.append(span(\n",
       "        `(${file.type || 'n/a'}) - ${file.size} bytes, ` +\n",
       "        `last modified: ${\n",
       "            file.lastModifiedDate ? file.lastModifiedDate.toLocaleDateString() :\n",
       "                                    'n/a'} - `));\n",
       "    const percent = span('0% done');\n",
       "    li.appendChild(percent);\n",
       "\n",
       "    outputElement.appendChild(li);\n",
       "\n",
       "    const fileDataPromise = new Promise((resolve) => {\n",
       "      const reader = new FileReader();\n",
       "      reader.onload = (e) => {\n",
       "        resolve(e.target.result);\n",
       "      };\n",
       "      reader.readAsArrayBuffer(file);\n",
       "    });\n",
       "    // Wait for the data to be ready.\n",
       "    let fileData = yield {\n",
       "      promise: fileDataPromise,\n",
       "      response: {\n",
       "        action: 'continue',\n",
       "      }\n",
       "    };\n",
       "\n",
       "    // Use a chunked sending to avoid message size limits. See b/62115660.\n",
       "    let position = 0;\n",
       "    do {\n",
       "      const length = Math.min(fileData.byteLength - position, MAX_PAYLOAD_SIZE);\n",
       "      const chunk = new Uint8Array(fileData, position, length);\n",
       "      position += length;\n",
       "\n",
       "      const base64 = btoa(String.fromCharCode.apply(null, chunk));\n",
       "      yield {\n",
       "        response: {\n",
       "          action: 'append',\n",
       "          file: file.name,\n",
       "          data: base64,\n",
       "        },\n",
       "      };\n",
       "\n",
       "      let percentDone = fileData.byteLength === 0 ?\n",
       "          100 :\n",
       "          Math.round((position / fileData.byteLength) * 100);\n",
       "      percent.textContent = `${percentDone}% done`;\n",
       "\n",
       "    } while (position < fileData.byteLength);\n",
       "  }\n",
       "\n",
       "  // All done.\n",
       "  yield {\n",
       "    response: {\n",
       "      action: 'complete',\n",
       "    }\n",
       "  };\n",
       "}\n",
       "\n",
       "scope.google = scope.google || {};\n",
       "scope.google.colab = scope.google.colab || {};\n",
       "scope.google.colab._files = {\n",
       "  _uploadFiles,\n",
       "  _uploadFilesContinue,\n",
       "};\n",
       "})(self);\n",
       "</script> "
      ],
      "text/plain": [
       "<IPython.core.display.HTML object>"
      ]
     },
     "metadata": {},
     "output_type": "display_data"
    },
    {
     "name": "stdout",
     "output_type": "stream",
     "text": [
      "Saving Видов_ИК_ЭП_Задание.ipynb to Видов_ИК_ЭП_Задание.ipynb\n",
      "Saved: Видов_ИК_ЭП_Задание_clean.ipynb\n"
     ]
    },
    {
     "data": {
      "application/javascript": [
       "\n",
       "    async function download(id, filename, size) {\n",
       "      if (!google.colab.kernel.accessAllowed) {\n",
       "        return;\n",
       "      }\n",
       "      const div = document.createElement('div');\n",
       "      const label = document.createElement('label');\n",
       "      label.textContent = `Downloading \"${filename}\": `;\n",
       "      div.appendChild(label);\n",
       "      const progress = document.createElement('progress');\n",
       "      progress.max = size;\n",
       "      div.appendChild(progress);\n",
       "      document.body.appendChild(div);\n",
       "\n",
       "      const buffers = [];\n",
       "      let downloaded = 0;\n",
       "\n",
       "      const channel = await google.colab.kernel.comms.open(id);\n",
       "      // Send a message to notify the kernel that we're ready.\n",
       "      channel.send({})\n",
       "\n",
       "      for await (const message of channel.messages) {\n",
       "        // Send a message to notify the kernel that we're ready.\n",
       "        channel.send({})\n",
       "        if (message.buffers) {\n",
       "          for (const buffer of message.buffers) {\n",
       "            buffers.push(buffer);\n",
       "            downloaded += buffer.byteLength;\n",
       "            progress.value = downloaded;\n",
       "          }\n",
       "        }\n",
       "      }\n",
       "      const blob = new Blob(buffers, {type: 'application/binary'});\n",
       "      const a = document.createElement('a');\n",
       "      a.href = window.URL.createObjectURL(blob);\n",
       "      a.download = filename;\n",
       "      div.appendChild(a);\n",
       "      a.click();\n",
       "      div.remove();\n",
       "    }\n",
       "  "
      ],
      "text/plain": [
       "<IPython.core.display.Javascript object>"
      ]
     },
     "metadata": {},
     "output_type": "display_data"
    },
    {
     "data": {
      "application/javascript": [
       "download(\"download_a0c34e65-85b7-4d86-9966-f2aa27d4ab9c\", \"\\u0412\\u0438\\u0434\\u043e\\u0432_\\u0418\\u041a_\\u042d\\u041f_\\u0417\\u0430\\u0434\\u0430\\u043d\\u0438\\u0435_clean.ipynb\", 172977)"
      ],
      "text/plain": [
       "<IPython.core.display.Javascript object>"
      ]
     },
     "metadata": {},
     "output_type": "display_data"
    }
   ],
   "source": [
    "import nbformat as nbf\n",
    "from google.colab import files\n",
    "\n",
    "uploaded = files.upload()  # choose your .ipynb\n",
    "assert uploaded, \"Upload a .ipynb file first.\"\n",
    "\n",
    "NB_IN = next(iter(uploaded.keys()))\n",
    "nb = nbf.read(NB_IN, as_version=4)\n",
    "\n",
    "nb.metadata.pop(\"widgets\", None)\n",
    "for cell in nb.cells:\n",
    "    cell.metadata.pop(\"widgets\", None)\n",
    "\n",
    "NB_OUT = NB_IN.rsplit(\".ipynb\", 1)[0] + \"_clean.ipynb\"\n",
    "nbf.write(nb, NB_OUT)\n",
    "print(\"Saved:\", NB_OUT)\n",
    "files.download(NB_OUT)"
   ]
  }
 ],
 "metadata": {
  "colab": {
   "authorship_tag": "ABX9TyMHl99KviQ9XGM6Snz3cq6V",
   "provenance": []
  },
  "kernelspec": {
   "display_name": "Python 3",
   "name": "python3"
  },
  "language_info": {
   "name": "python"
  }
 },
 "nbformat": 4,
 "nbformat_minor": 0
}
